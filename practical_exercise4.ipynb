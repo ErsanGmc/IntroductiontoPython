{
  "cells": [
    {
      "cell_type": "markdown",
      "metadata": {
        "id": "tBDsFMQwBs6Z"
      },
      "source": [
        "# Practical exercise 4: Your own supermarket\n",
        "\n",
        "In this practical exercise, you are the owner of a supermarket.\n",
        "\n",
        "🛒 You will program an online shop to sell different types of items. \n",
        "\n",
        "Please read the instructions carefully. There are hints and important explanations that will help you with this exercise."
      ]
    },
    {
      "cell_type": "markdown",
      "metadata": {
        "id": "ymULFKyosM3d"
      },
      "source": [
        "##Warm up\n",
        "\n",
        "Before we actually start, let's get a little more familiar with the data structures that will be useful in this exercise: lists, tuples and dictionaries. \n",
        "\n",
        "###(1) Lists\n",
        "\n",
        "First, create a shopping list with items that you want to purchase from your online shop later. You need to buy: milk, apples, oranges, potatoes and bread."
      ]
    },
    {
      "cell_type": "code",
      "execution_count": 1,
      "metadata": {
        "id": "0w6HGZBvsvru"
      },
      "outputs": [],
      "source": [
        "shopping_list=[\"milk\",\"apples\",\"oranges\",\"potatoes\",\"bread\"]\n"
      ]
    },
    {
      "cell_type": "markdown",
      "metadata": {
        "id": "K0TMLWsQbfPE"
      },
      "source": [
        "You also want to buy bananas and onions, so you add those to your list.\n",
        "\n",
        "Remember, there are two different ways to add an item to a list. \n",
        "\n",
        "📌 You can use the .append() method to add bananas to your list.\n",
        "\n",
        "📌📌 You can use the .insert() method to add onions to your list. With this method you will also have to specify the position at which you want the item to be added.\n",
        "\n",
        "💣 Make sure to print your shopping list afterwards to check if the items were added."
      ]
    },
    {
      "cell_type": "code",
      "execution_count": 3,
      "metadata": {
        "id": "YC3QlYU6NIrC"
      },
      "outputs": [
        {
          "name": "stdout",
          "output_type": "stream",
          "text": [
            "['milk', 'apples', 'onions', 'onions', 'oranges', 'potatoes', 'bread', 'bananas', 'bananas']\n"
          ]
        }
      ],
      "source": [
        "shopping_list.append(\"bananas\")\n",
        "shopping_list.insert(2,\"onions\")\n",
        "print(shopping_list)\n",
        "\n"
      ]
    },
    {
      "cell_type": "markdown",
      "metadata": {
        "id": "GVov48ohf4XA"
      },
      "source": [
        "Your roommate checks the shopping list and says that you already bought patatoes yesterday, so you decide to remove them from your list.\n",
        "\n",
        "📌 You can use the .remove() method to remove an item from your list."
      ]
    },
    {
      "cell_type": "code",
      "execution_count": 4,
      "metadata": {
        "id": "uH7PHLQpPFNC"
      },
      "outputs": [
        {
          "name": "stdout",
          "output_type": "stream",
          "text": [
            "['milk', 'apples', 'onions', 'onions', 'oranges', 'potatoes', 'bananas', 'bananas']\n"
          ]
        }
      ],
      "source": [
        "shopping_list.remove(\"bread\")\n",
        "\n",
        "print(shopping_list)"
      ]
    },
    {
      "cell_type": "markdown",
      "metadata": {
        "id": "U7oyLFUNeFvL"
      },
      "source": [
        "###(2) Tuples\n",
        "As a next step, lets make your list more informative, by adding the respective section in the store where you can find each item.\n",
        "\n",
        "You can do this by using tuples, which contain the name of the item and the respective section. For example \"fruits\", \"dairy\", \"bakery\".\n",
        "\n",
        "📌 Tuples are similar to lists, but you create them with round brackets, or parentheses ( ), instead of square ones [ ].\n",
        "\n",
        "Your list should follow this structure:\n",
        "```\n",
        "shopping_list = [('item1', 'section1'), ('item2', 'section2')]\n",
        "```\n",
        "\n"
      ]
    },
    {
      "cell_type": "code",
      "execution_count": 5,
      "metadata": {
        "id": "m8SiT9xofIXR"
      },
      "outputs": [],
      "source": [
        "\n",
        "shopping_list = [('milk', 'dairy'), ('apples', 'fruits'), ('onions', 'vegetables'), ('oranges', 'fruits'), ('bread','bakery'), ('bananas', 'fruits')]"
      ]
    },
    {
      "cell_type": "markdown",
      "metadata": {
        "id": "eyQLiQ0-ftZF"
      },
      "source": [
        "Next, you want to use this list to print out where each item is available. \n",
        "\n",
        "The message could be as follows: \n",
        "\"You can find the [item] in the [section] section\"\n",
        "\n",
        "\n",
        "📌 You can use the for loop to pick each tuple at a time and unpack it inside the loop. \n",
        "\n",
        "📌📌 Finally, you can include the item and section variable in the print function.\n"
      ]
    },
    {
      "cell_type": "code",
      "execution_count": 7,
      "metadata": {
        "id": "t84kgxJIg7EZ"
      },
      "outputs": [
        {
          "name": "stdout",
          "output_type": "stream",
          "text": [
            "you can find the milk in the dairy\n",
            "you can find the apples in the fruits\n",
            "you can find the onions in the vegetables\n",
            "you can find the oranges in the fruits\n",
            "you can find the bread in the bakery\n",
            "you can find the bananas in the fruits\n"
          ]
        }
      ],
      "source": [
        "for element in shopping_list:\n",
        "  item,section=element\n",
        "  print(\"you can find the\",item,\"in the\",section)\n",
        "  \n"
      ]
    },
    {
      "cell_type": "markdown",
      "metadata": {
        "id": "ZFuZo1ShhYTy"
      },
      "source": [
        "###(3) Dictionaries\n",
        "\n",
        "Another way to assign a section to each item is with dictionaries. Instead of a list containing multiple tuples, let's create a dictionary which contains the item as a key and the section as a value.\n",
        "\n",
        "📌 Dictionaries are created with curly braces { } and each item in a dictionary consists of key/value pairs.\n",
        "\n",
        "Your dictionary should follow this structure:\n",
        "```\n",
        "shopping_list = {'item1':'section1', 'item2':'section2'}\n",
        "```\n",
        "\n"
      ]
    },
    {
      "cell_type": "code",
      "execution_count": 8,
      "metadata": {
        "id": "_u68Uawrn0a0"
      },
      "outputs": [
        {
          "name": "stdout",
          "output_type": "stream",
          "text": [
            "{'milk': 'dairy', 'apples': 'fruits', 'onions': 'vegetables', 'oranges': 'fruits', 'bread': 'bakery', 'bananas': 'fruits'}\n"
          ]
        }
      ],
      "source": [
        "\n",
        "new_list={}\n",
        "for element in shopping_list:\n",
        "    key,value=element\n",
        "    new_list[key]=value\n",
        "print(new_list)"
      ]
    },
    {
      "cell_type": "markdown",
      "metadata": {
        "id": "PCHcI3wooUuk"
      },
      "source": [
        "We have learned different methods to access the items in a dictionary.\n",
        "\n",
        "Let's use them first to print only the keys, then only the values and finally the key/value pairs as a list of tuples.\n",
        "\n",
        "📌 You can use .keys() method to access the keys.\n",
        "\n",
        "📌 You can use the .values() method to access the values.\n",
        "\n",
        "📌 You can use the .items() method to access the key/value pairs.\n"
      ]
    },
    {
      "cell_type": "code",
      "execution_count": 10,
      "metadata": {
        "id": "ujwOVRsPotS2"
      },
      "outputs": [
        {
          "name": "stdout",
          "output_type": "stream",
          "text": [
            "dict_keys(['milk', 'apples', 'onions', 'oranges', 'bread', 'bananas'])\n",
            "dict_values(['dairy', 'fruits', 'vegetables', 'fruits', 'bakery', 'fruits'])\n",
            "dict_items([('milk', 'dairy'), ('apples', 'fruits'), ('onions', 'vegetables'), ('oranges', 'fruits'), ('bread', 'bakery'), ('bananas', 'fruits')])\n"
          ]
        }
      ],
      "source": [
        "print(new_list.keys())\n",
        "print(new_list.values())\n",
        "\n",
        "\n",
        "print(new_list.items())\n"
      ]
    },
    {
      "cell_type": "markdown",
      "metadata": {
        "id": "cnWVzlo1vBy8"
      },
      "source": [
        "# Set up the online shop\n",
        "\n",
        "So, now that you have a gained some experience, let's start with our main exercise!\n",
        "\n",
        "Of course, you first need to add all the items that will be available in your online shop. \n",
        "\n",
        "📌Create a dictionary for your inventory. For each item the key should be the name and the value should be a list containing price, stock, and section.\n",
        "\n",
        "📌📌 Your dictionary should follow this structure: \n",
        "```\n",
        "inventory = {'item1':[price, stock quantity,'section'], 'item2':[price, stock quantity,'section']}\n",
        "```\n",
        "💣 You can also write each item of the dictionary in its own line to make it more user-friendly:\n",
        "\n",
        "```\n",
        "inventory = {'item1':[price, stock quantity,'section'], \n",
        "             'item2':[price, stock quantity,'section']}\n",
        "```"
      ]
    },
    {
      "cell_type": "code",
      "execution_count": 13,
      "metadata": {
        "id": "9N1XvG5lPZYb"
      },
      "outputs": [],
      "source": [
        "inventory={\n",
        "    \"Milk\":[4,1000,\"Dairy\"],\n",
        "    \"Apples\":[2,3,\"Fruits\"],\n",
        "    'Onions':[1,50,'vegetables'],\n",
        "    'Oranges':[1.5,1000,'fruits'],\n",
        "    'Bread':[3,100,'bakery'],\n",
        "    'Bananas':[5,300,'fruits']\n",
        " }"
      ]
    },
    {
      "cell_type": "markdown",
      "metadata": {
        "id": "AU7K16IxSsTh"
      },
      "source": [
        "# Your first client is here\n",
        "\n",
        "Now that your inverntory is set up, your first client visits the shop. Let's take a peak in their shopping list.\n",
        "\n",
        "📌 As we did in the warm up, let's create a shopping list for your first client with tuples for each item. This time, each tuple should consist of the item and the amount that they want to purchase.\n",
        "\n",
        "The list should follow this structure:\n",
        "\n",
        "```\n",
        "shopping_list = [('item1', amount),('item2', amount)]\n",
        "```\n",
        "\n"
      ]
    },
    {
      "cell_type": "code",
      "execution_count": 20,
      "metadata": {
        "id": "ZfsnRwT5Ux4O"
      },
      "outputs": [
        {
          "ename": "SyntaxError",
          "evalue": "invalid syntax (1841661333.py, line 1)",
          "output_type": "error",
          "traceback": [
            "\u001b[1;36m  Cell \u001b[1;32mIn[20], line 1\u001b[1;36m\u001b[0m\n\u001b[1;33m    global shopping_list = [('milk',1), ('apples',4), ('onions', 5), ('oranges',5), ('bread',2), ('bananas',10)]\u001b[0m\n\u001b[1;37m                         ^\u001b[0m\n\u001b[1;31mSyntaxError\u001b[0m\u001b[1;31m:\u001b[0m invalid syntax\n"
          ]
        }
      ],
      "source": [
        "shopping_list = [('milk',1), ('apples',4), ('onions', 5), ('oranges',5), ('bread',2), ('bananas',10)]"
      ]
    },
    {
      "cell_type": "markdown",
      "metadata": {
        "id": "7pPSFAdBUqHm"
      },
      "source": [
        "# What happens next? \n",
        "\n",
        "Everytime a customer wants to purchase something from your online shop, a few steps have to be taken. Here are the functions that will make your online shop work.\n",
        "\n",
        "##(1) Check the stock\n",
        "First, you have to make sure that you have sufficient stock of each item in your inventory. \n",
        "\n",
        "1. check_stock \n",
        "\n",
        "Define a function to check the stock quantity of the items in your shopping list. The function should take your shopping list and inventory as an argument. If there is not enough stock, the amount in your shopping list should be updated to the highest amount possible.\n",
        "\n",
        "\n",
        "💣 To start, create an empty shopping list, in which the items and their updated amounts will be written in as tuples. Remember that we cannot update them because tuples are immutable.\n",
        "\n",
        "📌 You can use a for loop to iterate over each item inside the shopping list.\n",
        "\n",
        "📌 You can then unpack the tuples to access each item and amount separately.\n",
        "\n",
        "📌 To access the available stock in your inventory dictionary, use the item as a key, then the corresponding index in the values list and check if there is enough stock. \n",
        "\n",
        "📌 The print function can help you to inform the client which items are out of stock and what the available amount is.\n",
        "\n",
        "📌 Update the amount if necessary and append the item and amount to your updated shopping list."
      ]
    },
    {
      "cell_type": "code",
      "execution_count": 14,
      "metadata": {
        "id": "fHnIa5_o1em8"
      },
      "outputs": [],
      "source": [
        "def check_stock(shopping_list,inventory):\n",
        "  updated_shopping_list=[]\n",
        "  for element in shopping_list:\n",
        "    item,amount=element\n",
        "    inventory_value=inventory[item]\n",
        "    if amount>inventory_value[1]:\n",
        "      amount = inventory_value[1]\n",
        "      print(\"we dont have enough stock of\",item,\"you can buy a maximum about of\",inventory_value[1])\n",
        "    updated_shopping_list.append((item,amount))\n",
        "    \n",
        "  return updated_shopping_list\n",
        "    \n",
        "  \n"
      ]
    },
    {
      "cell_type": "markdown",
      "metadata": {
        "id": "FeUryrwN-Cy_"
      },
      "source": [
        "2. compute_bill\n",
        "\n",
        "Next, we need to define a function to compute the bill and the price that has to be payed in the checkout. The function should take your **updated** shopping list and inventory as an argument.\n",
        "\n",
        "💣 In the beginning of the function, you need to create a bill variable and assign 0 to it.\n",
        "\n",
        "📌 You can use a for loop to iterate over each item inside the updated shopping list.\n",
        "\n",
        "📌 You can then unpack the tuples to access each item and amount separately.\n",
        "\n",
        "📌 To access the price in your inventory dictionary use the item as a key, then the corresponding index in the values list.\n",
        "\n",
        "📌 Compute the price for the amount inside your client's updated shopping list and add it to your bill variable. \n"
      ]
    },
    {
      "cell_type": "code",
      "execution_count": 15,
      "metadata": {
        "id": "PfYhT-_skm6H"
      },
      "outputs": [],
      "source": [
        "def compute_bill(updated_shoping_list,inventory):\n",
        "  bill=0\n",
        "  for element in updated_shoping_list:\n",
        "    item,amount=element\n",
        "    inventory_value=inventory[item]\n",
        "    bill+= inventory_value[0]*amount\n",
        "  return bill\n",
        "\n",
        "  "
      ]
    },
    {
      "cell_type": "markdown",
      "metadata": {
        "id": "rY4TwQ-M-eBl"
      },
      "source": [
        "3. update_stock\n",
        "\n",
        "Your last function should update your store inventory after items were purchased. The function should take your **updated** shopping list and inventory as an argument.\n",
        "\n",
        "📌 You can use a for loop to iterate over each item inside the updated shopping list.\n",
        "\n",
        "📌 You can then unpack the tuples to access each item and amount separately.\n",
        "\n",
        "📌 To access the stock in your inventory dictionary use the item as a key, then the corresponding index in the values list.\n",
        "\n",
        "📌 Decrease the stock in your inventory by the amount that was purchased. \n"
      ]
    },
    {
      "cell_type": "code",
      "execution_count": 16,
      "metadata": {
        "id": "Vm6X-Crvr4lp"
      },
      "outputs": [],
      "source": [
        "\n",
        "def update_stock(updated_shoping_list,inventory):\n",
        "  for element in updated_shoping_list:\n",
        "    item,amount=element\n",
        "    inventory_value=inventory[item]\n",
        "    inventory_value[1]=inventory_value-amount\n",
        "  return inventory\n",
        "\n"
      ]
    },
    {
      "cell_type": "markdown",
      "metadata": {
        "id": "xlh49KnZyl0L"
      },
      "source": [
        "# Time to test if everything is working!\n",
        "\n"
      ]
    },
    {
      "cell_type": "markdown",
      "metadata": {
        "id": "22SoF5NyGWeQ"
      },
      "source": [
        "Now that you have your functions set up, you are ready to fulfil your client's shopping list.\n",
        "\n",
        "1. Call the check_stock function\n",
        "\n",
        "💣 The first thing that you need to do is to check whether there is enough stock available in your online shop. \n",
        "\n",
        "📌 Use the check_stock function to check if there is enough stock and if not, to update your shopping list accordingly.\n",
        "\n",
        "📌 Next, print the following statement:\n",
        "\n",
        "\"Your updated shopping list is: [shopping_list]\""
      ]
    },
    {
      "cell_type": "code",
      "execution_count": 19,
      "metadata": {
        "id": "bdlEyJC2xPOw"
      },
      "outputs": [
        {
          "ename": "KeyError",
          "evalue": "'milk'",
          "output_type": "error",
          "traceback": [
            "\u001b[1;31m---------------------------------------------------------------------------\u001b[0m",
            "\u001b[1;31mKeyError\u001b[0m                                  Traceback (most recent call last)",
            "Cell \u001b[1;32mIn[19], line 2\u001b[0m\n\u001b[0;32m      1\u001b[0m \u001b[39m#Call check_stock function for your shopping list\u001b[39;00m\n\u001b[1;32m----> 2\u001b[0m updated_shopping_list\u001b[39m=\u001b[39mcheck_stock(shopping_list,inventory)\n\u001b[0;32m      3\u001b[0m \u001b[39mprint\u001b[39m(updated_shopping_list)\n",
            "Cell \u001b[1;32mIn[14], line 7\u001b[0m, in \u001b[0;36mcheck_stock\u001b[1;34m(shopping_list, inventory)\u001b[0m\n\u001b[0;32m      5\u001b[0m \u001b[39mfor\u001b[39;00m element \u001b[39min\u001b[39;00m shopping_list:\n\u001b[0;32m      6\u001b[0m   item,amount\u001b[39m=\u001b[39melement\n\u001b[1;32m----> 7\u001b[0m   inventory_value\u001b[39m=\u001b[39minventory[item]\n\u001b[0;32m      8\u001b[0m   \u001b[39mif\u001b[39;00m amount\u001b[39m>\u001b[39minventory_value[\u001b[39m1\u001b[39m]:\n\u001b[0;32m      9\u001b[0m     \u001b[39mprint\u001b[39m(\u001b[39m\"\u001b[39m\u001b[39mwe dont have enough stock of\u001b[39m\u001b[39m\"\u001b[39m,item,\u001b[39m\"\u001b[39m\u001b[39myou can buy a maximum about of\u001b[39m\u001b[39m\"\u001b[39m,inventory_value[\u001b[39m1\u001b[39m])\n",
            "\u001b[1;31mKeyError\u001b[0m: 'milk'"
          ]
        }
      ],
      "source": [
        "updated_shopping_list=check_stock(shopping_list,inventory)\n",
        "print(\"Your updated shopping list:\", updated_shopping_list)"
      ]
    },
    {
      "cell_type": "markdown",
      "metadata": {
        "id": "oRiKfikSMQ0s"
      },
      "source": [
        "2.  Call the compute_bill function\n",
        "\n",
        "Now you are sure that all items in your list are available, you need to compute how much you have to pay.\n",
        "\n",
        "📌 Use the compute_bill function to find out how much you have to pay.\n",
        "\n",
        "💣 Make sure that you give the **updated** shopping list as an argument!\n",
        "\n",
        "📌 Next, print the following statement:\n",
        "\"Total price: [bill] $\""
      ]
    },
    {
      "cell_type": "code",
      "execution_count": null,
      "metadata": {
        "id": "ynk3rKhOMyP1"
      },
      "outputs": [],
      "source": [
        "bill=compute_bill(updated_shopping_list,inventory)\n",
        "print(\"Total price:\",bill,\"$\")\n"
      ]
    },
    {
      "cell_type": "markdown",
      "metadata": {
        "id": "eUORhgOvM1BK"
      },
      "source": [
        "3.   Call the update_stock function\n",
        "\n",
        "Lastly, you have to make sure that your inventory gets updated after the purchase. \n",
        "\n",
        "📌 Use the update_stock function to update the inventory stock.\n",
        "\n",
        "💣 Make sure that you give the **updated** shopping list as an argument!\n",
        "\n",
        "📌 Next, print the following statement:\n",
        "\"The inventory has been updated: [inventory]\""
      ]
    },
    {
      "cell_type": "code",
      "execution_count": 21,
      "metadata": {
        "id": "8hyBJ49qNNFM"
      },
      "outputs": [
        {
          "ename": "NameError",
          "evalue": "name 'updated_shopping_list' is not defined",
          "output_type": "error",
          "traceback": [
            "\u001b[1;31m---------------------------------------------------------------------------\u001b[0m",
            "\u001b[1;31mNameError\u001b[0m                                 Traceback (most recent call last)",
            "Cell \u001b[1;32mIn[21], line 1\u001b[0m\n\u001b[1;32m----> 1\u001b[0m new_inventory \u001b[39m=\u001b[39m update_stock(updated_shopping_list, inventory)\n\u001b[0;32m      2\u001b[0m \u001b[39mprint\u001b[39m(\u001b[39m\"\u001b[39m\u001b[39mThe inventory was updated ,Please Check!:\u001b[39m\u001b[39m\"\u001b[39m, new_inventory)\n",
            "\u001b[1;31mNameError\u001b[0m: name 'updated_shopping_list' is not defined"
          ]
        }
      ],
      "source": [
        "new_inventory = update_stock(updated_shopping_list, inventory)\n",
        "print(\"The inventory was updated ,Please Check!:\", new_inventory)"
      ]
    }
  ],
  "metadata": {
    "colab": {
      "collapsed_sections": [],
      "name": "practical_exercise4.ipynb",
      "provenance": []
    },
    "kernelspec": {
      "display_name": "Python 3",
      "language": "python",
      "name": "python3"
    },
    "language_info": {
      "codemirror_mode": {
        "name": "ipython",
        "version": 3
      },
      "file_extension": ".py",
      "mimetype": "text/x-python",
      "name": "python",
      "nbconvert_exporter": "python",
      "pygments_lexer": "ipython3",
      "version": "3.11.1"
    },
    "vscode": {
      "interpreter": {
        "hash": "5238573367df39f7286bb46f9ff5f08f63a01a80960060ce41e3c79b190280fa"
      }
    }
  },
  "nbformat": 4,
  "nbformat_minor": 0
}
